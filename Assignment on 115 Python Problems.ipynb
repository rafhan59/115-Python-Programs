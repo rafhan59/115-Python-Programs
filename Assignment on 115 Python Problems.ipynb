{
 "cells": [
  {
   "cell_type": "markdown",
   "id": "db7f751b-60bb-4ed3-ac90-090de4417dc6",
   "metadata": {},
   "source": [
    "## Basic Problems"
   ]
  },
  {
   "cell_type": "markdown",
   "id": "115dddc9-07b5-483f-9d3b-b1ee8154c719",
   "metadata": {},
   "source": [
    "#### 1. Variable Swap: Write a Python program to swap the values of two variables without using a temporary variable."
   ]
  },
  {
   "cell_type": "code",
   "execution_count": 4,
   "id": "5a326828-9a1f-43ce-b43b-8f080504e9ff",
   "metadata": {},
   "outputs": [
    {
     "name": "stdout",
     "output_type": "stream",
     "text": [
      "The value of a is 20 and the value of b is 10\n"
     ]
    }
   ],
   "source": [
    "a = 10\n",
    "b = 20\n",
    "a,b = b,a\n",
    "print(f'The value of a is {a} and the value of b is {b}')"
   ]
  },
  {
   "cell_type": "markdown",
   "id": "ba7ff65e-0928-43a2-b6f6-f36981c5b9eb",
   "metadata": {},
   "source": [
    "#### 2. Even or Odd: Write a Python program that takes an integer as input and prints whether it is even or odd."
   ]
  },
  {
   "cell_type": "code",
   "execution_count": 20,
   "id": "4c9b5b1f-0214-4386-8da1-3a27d2b76d54",
   "metadata": {},
   "outputs": [
    {
     "name": "stdout",
     "output_type": "stream",
     "text": [
      "The value is odd\n"
     ]
    }
   ],
   "source": [
    "def number_check(n):\n",
    "    try:\n",
    "        num = int(n)\n",
    "        if num % 2 == 0:\n",
    "            print('The value is even')\n",
    "        elif num < 0:\n",
    "            print('Please provide a non-negative number')\n",
    "        elif num % 2 == 1:\n",
    "            print('The value is odd')\n",
    "        else:\n",
    "            print('Provide a valid number')\n",
    "    except Exception as e:\n",
    "        print(f\"Provide a correct number: {e}\")\n",
    "\n",
    "number_check(5)"
   ]
  },
  {
   "cell_type": "markdown",
   "id": "5df3ddb4-6025-4bd9-a559-85ebea3591f0",
   "metadata": {},
   "source": [
    "#### 3. String Reverse: Write a Python function to reverse a given string and return the reversed string."
   ]
  },
  {
   "cell_type": "code",
   "execution_count": 23,
   "id": "03b31ad3-d5cf-492a-a7d4-ebf407c120ce",
   "metadata": {},
   "outputs": [
    {
     "name": "stdout",
     "output_type": "stream",
     "text": [
      "esrever\n"
     ]
    }
   ],
   "source": [
    "def rev(n):\n",
    "    return n[::-1]\n",
    "print(rev('reverse'))"
   ]
  },
  {
   "cell_type": "code",
   "execution_count": null,
   "id": "89bfaecb-8f89-459e-8e1c-54de2ebae80b",
   "metadata": {},
   "outputs": [],
   "source": []
  }
 ],
 "metadata": {
  "kernelspec": {
   "display_name": "Python 3 (ipykernel)",
   "language": "python",
   "name": "python3"
  },
  "language_info": {
   "codemirror_mode": {
    "name": "ipython",
    "version": 3
   },
   "file_extension": ".py",
   "mimetype": "text/x-python",
   "name": "python",
   "nbconvert_exporter": "python",
   "pygments_lexer": "ipython3",
   "version": "3.12.4"
  }
 },
 "nbformat": 4,
 "nbformat_minor": 5
}
