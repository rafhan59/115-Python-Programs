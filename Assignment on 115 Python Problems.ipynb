{
 "cells": [
  {
   "cell_type": "markdown",
   "id": "db7f751b-60bb-4ed3-ac90-090de4417dc6",
   "metadata": {},
   "source": [
    "## Basic Problems"
   ]
  },
  {
   "cell_type": "markdown",
   "id": "115dddc9-07b5-483f-9d3b-b1ee8154c719",
   "metadata": {},
   "source": [
    "#### 1. Variable Swap: Write a Python program to swap the values of two variables without using a temporary variable."
   ]
  },
  {
   "cell_type": "code",
   "execution_count": 4,
   "id": "5a326828-9a1f-43ce-b43b-8f080504e9ff",
   "metadata": {},
   "outputs": [
    {
     "name": "stdout",
     "output_type": "stream",
     "text": [
      "The value of a is 20 and the value of b is 10\n"
     ]
    }
   ],
   "source": [
    "a = 10\n",
    "b = 20\n",
    "a,b = b,a\n",
    "print(f'The value of a is {a} and the value of b is {b}')"
   ]
  },
  {
   "cell_type": "markdown",
   "id": "ba7ff65e-0928-43a2-b6f6-f36981c5b9eb",
   "metadata": {},
   "source": [
    "#### 2. Even or Odd: Write a Python program that takes an integer as input and prints whether it is even or odd."
   ]
  },
  {
   "cell_type": "code",
   "execution_count": 20,
   "id": "4c9b5b1f-0214-4386-8da1-3a27d2b76d54",
   "metadata": {},
   "outputs": [
    {
     "name": "stdout",
     "output_type": "stream",
     "text": [
      "The value is odd\n"
     ]
    }
   ],
   "source": [
    "def number_check(n):\n",
    "    try:\n",
    "        num = int(n)\n",
    "        if num % 2 == 0:\n",
    "            print('The value is even')\n",
    "        elif num < 0:\n",
    "            print('Please provide a non-negative number')\n",
    "        elif num % 2 == 1:\n",
    "            print('The value is odd')\n",
    "        else:\n",
    "            print('Provide a valid number')\n",
    "    except Exception as e:\n",
    "        print(f\"Provide a correct number: {e}\")\n",
    "\n",
    "number_check(5)"
   ]
  },
  {
   "cell_type": "markdown",
   "id": "5df3ddb4-6025-4bd9-a559-85ebea3591f0",
   "metadata": {},
   "source": [
    "#### 3. String Reverse: Write a Python function to reverse a given string and return the reversed string."
   ]
  },
  {
   "cell_type": "code",
   "execution_count": 130,
   "id": "03b31ad3-d5cf-492a-a7d4-ebf407c120ce",
   "metadata": {},
   "outputs": [
    {
     "name": "stdout",
     "output_type": "stream",
     "text": [
      "egami esreveR\n"
     ]
    }
   ],
   "source": [
    "def reversed(n):\n",
    "    txt = []\n",
    "    length = len(n)-1\n",
    "    for i in range(length, -1, -1):\n",
    "        txt.append(n[i])\n",
    "    print(''.join(txt))\n",
    "\n",
    "reversed(\"Reverse image\")"
   ]
  },
  {
   "cell_type": "markdown",
   "id": "3ae1eac0-dd34-44cc-bcf0-47330da71b4c",
   "metadata": {},
   "source": [
    "#### 4. Type Conversion: Given a list of integers, write a Python program to convert each element of the list to a string."
   ]
  },
  {
   "cell_type": "code",
   "execution_count": 31,
   "id": "45c8bac7-6823-44ff-945c-f380a21c4810",
   "metadata": {},
   "outputs": [
    {
     "name": "stdout",
     "output_type": "stream",
     "text": [
      "12, type is <class 'str'>\n",
      "15, type is <class 'str'>\n",
      "5, type is <class 'str'>\n",
      "8, type is <class 'str'>\n",
      "18, type is <class 'str'>\n"
     ]
    }
   ],
   "source": [
    "def convert_to_list(lst):\n",
    "    for i in lst:\n",
    "        elem = str(i)\n",
    "        print(f\"{elem}, type is {type(elem)}\")\n",
    "\n",
    "convert_to_list([12, 15, 5, 8, 18])"
   ]
  },
  {
   "cell_type": "markdown",
   "id": "7426d5bc-bbec-499a-a9dc-4dc9159dccdb",
   "metadata": {},
   "source": [
    "#### 5. Temperature Converter: Write a Python program that converts a temperature in Celsius to Fahrenheit. Take the Celsius temperature as input from the user."
   ]
  },
  {
   "cell_type": "code",
   "execution_count": 50,
   "id": "d77f9755-80e6-45c0-ace2-f1fae36e908d",
   "metadata": {},
   "outputs": [
    {
     "name": "stdin",
     "output_type": "stream",
     "text": [
      "Enter Your Temperature in Celcius 36.98\n"
     ]
    },
    {
     "name": "stdout",
     "output_type": "stream",
     "text": [
      "98.56° F\n"
     ]
    }
   ],
   "source": [
    "try:\n",
    "    celcius = float(input('Enter Your Temperature in Celcius'))\n",
    "    fahrenheit = (9*(celcius)/5)+32\n",
    "    print(f\"{format(fahrenheit,'.2f')}° F\")\n",
    "except Exception as e:\n",
    "    print('Please provide a valid number')"
   ]
  },
  {
   "cell_type": "markdown",
   "id": "b3d8841e-fd98-4461-9484-2b712a97cdc5",
   "metadata": {},
   "source": [
    "#### 6. Data Type Checker: Write a Python function that takes a variable as input and returns the data type of the variable as a string (e.g., “int”, “float”, “str”, “list”, etc.)."
   ]
  },
  {
   "cell_type": "code",
   "execution_count": 76,
   "id": "14386a95-2bca-4ca6-898b-a41ee4ca0aa4",
   "metadata": {},
   "outputs": [
    {
     "name": "stdout",
     "output_type": "stream",
     "text": [
      "<class 'float'>, type of returned value is <class 'str'>\n"
     ]
    }
   ],
   "source": [
    "def type_check(var):\n",
    "    stringify = str(type(var))\n",
    "    print(f\"{stringify}, type of returned value is {type(stringify)}\")\n",
    "\n",
    "type_check(19.25)"
   ]
  },
  {
   "cell_type": "markdown",
   "id": "219d8635-68aa-49d1-a4b0-f028e4ce768b",
   "metadata": {},
   "source": [
    "#### 7. String Palindrome: Write a Python function to check if a given string is a palindrome or not."
   ]
  },
  {
   "cell_type": "code",
   "execution_count": 87,
   "id": "c857bb98-cd3d-4d9e-8bf0-a38cf8d153da",
   "metadata": {},
   "outputs": [
    {
     "name": "stdout",
     "output_type": "stream",
     "text": [
      "Madam is pallindrome\n",
      "Nurses Run is pallindrome\n",
      "How cute is not a pallindrome\n"
     ]
    }
   ],
   "source": [
    "def pal_check(str):\n",
    "    rev = str.lower()[::-1].replace(\" \",\"\")\n",
    "    if str.lower().replace(\" \",\"\") == rev:\n",
    "        print(f\"{str} is pallindrome\")\n",
    "    else:\n",
    "        print(f\"{str} is not a pallindrome\")\n",
    "\n",
    "pal_check('Madam')\n",
    "pal_check('Nurses Run')\n",
    "pal_check('How cute')"
   ]
  },
  {
   "cell_type": "markdown",
   "id": "59799d3e-0909-4317-b09e-abab18f501dd",
   "metadata": {},
   "source": [
    "#### 8. String Reversal with Slicing: Write a Python function to reverse a given string using slicing."
   ]
  },
  {
   "cell_type": "code",
   "execution_count": 88,
   "id": "337e0093-5083-4cd9-bd1d-bb7270fb5572",
   "metadata": {},
   "outputs": [
    {
     "name": "stdout",
     "output_type": "stream",
     "text": [
      "esrever\n"
     ]
    }
   ],
   "source": [
    "def rev(n):\n",
    "    return n[::-1]\n",
    "print(rev('reverse'))"
   ]
  },
  {
   "cell_type": "markdown",
   "id": "6ec6f0e7-66c6-47fa-ad73-b9f8a5e94d7b",
   "metadata": {},
   "source": [
    "#### 9. String Concatenation: Write a Python program that takes two strings as input and concatenates them into a single string without using the '+' operator."
   ]
  },
  {
   "cell_type": "code",
   "execution_count": 132,
   "id": "8789bed0-b8eb-448f-9027-655c3aac4350",
   "metadata": {},
   "outputs": [
    {
     "name": "stdin",
     "output_type": "stream",
     "text": [
      "Enter your first string: Hello\n",
      "Enter your second string: World!\n"
     ]
    },
    {
     "name": "stdout",
     "output_type": "stream",
     "text": [
      "Hello World!\n"
     ]
    }
   ],
   "source": [
    "str1 = input(\"Enter your first string:\")\n",
    "str2 = input(\"Enter your second string:\")\n",
    "print(f\"{str1} {str2}\")"
   ]
  },
  {
   "cell_type": "markdown",
   "id": "72bc789e-6c5b-4f42-ac1f-684084189b88",
   "metadata": {},
   "source": [
    "#### 10. Typecasting Challenge: Given three variables: `a = ‘100’`, `b = 25`, and `c = ‘10.5’`, write a Python program to perform the following operations and print the results: – Convert `a` to an integer and add it to `b`. – Convert `c` to a float and subtract it from the result of the first operation. – Convert the final result to a string and concatenate it with the string ” is the answer.”"
   ]
  },
  {
   "cell_type": "code",
   "execution_count": 137,
   "id": "9dd54872-674d-4cbb-82de-890013268db8",
   "metadata": {},
   "outputs": [
    {
     "name": "stdout",
     "output_type": "stream",
     "text": [
      "First result is 125\n",
      "Second result is 114.5\n",
      "114.5 is the answer.\n"
     ]
    }
   ],
   "source": [
    "a = '100'\n",
    "b = 25\n",
    "c = '10.5'\n",
    "\n",
    "# Convert a to an integer and add it to b.\n",
    "result1 = int(a)+b\n",
    "print(f\"First result is {result1}\")\n",
    "\n",
    "# Convert c to a float and subtract it from the result of the first operation\n",
    "c = float(c)\n",
    "result2 = result1 - c\n",
    "print(f\"Second result is {result2}\")\n",
    "\n",
    "# Convert the final result to a string and concatenate it with the string ” is the answer.”\n",
    "given_str = \" is the answer.\"\n",
    "print(f\"{str(result2) + (given_str)}\")"
   ]
  },
  {
   "cell_type": "markdown",
   "id": "e506b6c5-28a2-4c14-b671-636d04d7ffae",
   "metadata": {},
   "source": [
    "## Python Conditional Statements:"
   ]
  },
  {
   "cell_type": "markdown",
   "id": "4116054a-a465-4b7f-9950-112a026a25d2",
   "metadata": {},
   "source": [
    "#### 11. Positive, Negative, or Zero: Write a Python program that takes a number as input and prints whether it is positive, negative, or zero."
   ]
  },
  {
   "cell_type": "code",
   "execution_count": 146,
   "id": "17defe4c-0d80-4933-a841-226466a22ae6",
   "metadata": {},
   "outputs": [
    {
     "name": "stdin",
     "output_type": "stream",
     "text": [
      "Enter a number: jhg\n"
     ]
    },
    {
     "name": "stdout",
     "output_type": "stream",
     "text": [
      "Provide a valid number\n"
     ]
    }
   ],
   "source": [
    "try:\n",
    "    num = float(input(\"Enter a number:\"))\n",
    "    \n",
    "    if num > 0:\n",
    "        print('The number is positive')\n",
    "    elif num < 0:\n",
    "        print('The number is negative')\n",
    "    else:\n",
    "        print('The number is zero')\n",
    "except Exception:\n",
    "    print('Provide a valid number')"
   ]
  },
  {
   "cell_type": "markdown",
   "id": "86fc285f-7a8d-4c8e-bf51-0b5c71ba3547",
   "metadata": {},
   "source": [
    "#### 12. Largest of Three Numbers: Write a Python program that takes three numbers as input and prints the largest among them."
   ]
  },
  {
   "cell_type": "code",
   "execution_count": 170,
   "id": "76023583-4230-47f4-9ccf-8f0c5fb97cfd",
   "metadata": {},
   "outputs": [
    {
     "name": "stdin",
     "output_type": "stream",
     "text": [
      "Enter 1st number: 12\n",
      "Enter 2nd number: 17\n",
      "Enter 3rd number: 15\n"
     ]
    },
    {
     "name": "stdout",
     "output_type": "stream",
     "text": [
      "The largest number is 17.0\n"
     ]
    }
   ],
   "source": [
    "try:\n",
    "    num1 = float(input(\"Enter 1st number:\"))\n",
    "    num2 = float(input(\"Enter 2nd number:\"))\n",
    "    num3 = float(input(\"Enter 3rd number:\"))\n",
    "\n",
    "    if (num1 > num2) & (num1 > num3):\n",
    "        print(f\"The largest number is {num1}\")\n",
    "    elif (num2 > num1) & (num2 > num3):\n",
    "        print(f\"The largest number is {num2}\")\n",
    "    elif (num3 > num1) & (num3 > num2):\n",
    "        print(f\"The largest number is {num3}\")\n",
    "    else:\n",
    "        print(\"All numbers are equal\")\n",
    "        \n",
    "\n",
    "except Exception:\n",
    "    print(f\"Input a number\")"
   ]
  },
  {
   "cell_type": "markdown",
   "id": "5d809642-b9d9-4833-a272-db111e161c8c",
   "metadata": {},
   "source": [
    "#### 13. Leap Year Checker: Write a Python program that takes a year as input and determines if it is a leap year or not."
   ]
  },
  {
   "cell_type": "code",
   "execution_count": 197,
   "id": "6dcad689-4c06-4bc2-b8d1-e1e81ca35b50",
   "metadata": {},
   "outputs": [
    {
     "name": "stdin",
     "output_type": "stream",
     "text": [
      "Enter Year: 2100\n"
     ]
    },
    {
     "name": "stdout",
     "output_type": "stream",
     "text": [
      "2100 is not a Leap Year\n"
     ]
    }
   ],
   "source": [
    "try:\n",
    "    year = int(input(\"Enter Year:\"))\n",
    "\n",
    "    if year % 4 == 0:\n",
    "        if (year % 100 == 0) & (year % 400 == 0):\n",
    "            print(f\"{year} is a Leap Year\")\n",
    "        elif (year % 4 == 0) & (year % 400 == 0):\n",
    "            print(f\"{year} is a Leap Year\")\n",
    "        else:\n",
    "            print(f\"{year} is not a Leap Year\")\n",
    "    else:\n",
    "        print(f\"{year} is not a Leap Year\")\n",
    "except Exception:\n",
    "    print(\"Enter a valid year\")"
   ]
  },
  {
   "cell_type": "markdown",
   "id": "1fe2382a-9abc-4824-afd6-50c131664716",
   "metadata": {},
   "source": [
    "#### 14. Grades Classification: Write a Python program that takes a student’s percentage as input and prints their corresponding grade according to the following criteria: – 90% or above: A+ – 80-89%: A – 70-79%: B – 60-69%: C – Below 60%: Fail"
   ]
  },
  {
   "cell_type": "code",
   "execution_count": 202,
   "id": "42f33f3d-2e7b-4ed8-9e1e-417577174ccc",
   "metadata": {},
   "outputs": [
    {
     "name": "stdin",
     "output_type": "stream",
     "text": [
      "Enter Your Percentage (%): 45\n"
     ]
    },
    {
     "name": "stdout",
     "output_type": "stream",
     "text": [
      "You have failed\n"
     ]
    }
   ],
   "source": [
    "try:\n",
    "    percent = int(input(\"Enter Your Percentage (%):\"))\n",
    "\n",
    "    if percent >= 90:\n",
    "        print(\"Your grade is: A+\")\n",
    "    elif (percent >= 80) & (percent <= 89):\n",
    "        print(\"Your grade is: A\")\n",
    "    elif (percent >= 70) & (percent <= 79):\n",
    "        print(\"Your grade is: B\")\n",
    "    elif (percent >= 60) & (percent <= 69):\n",
    "        print(\"Your grade is: C\")\n",
    "    else:\n",
    "        print(\"You have failed\")\n",
    "except Exception as e:\n",
    "    print(f\"Enter a valid Percentage in Integer: {e}\")"
   ]
  },
  {
   "cell_type": "markdown",
   "id": "ebf48cf5-02df-4cc7-bdb9-47816593c7d6",
   "metadata": {},
   "source": [
    "#### 15. Vowel or Consonant: Write a Python program that takes a single character as input and determines whether it is a vowel or a consonant."
   ]
  },
  {
   "cell_type": "code",
   "execution_count": 210,
   "id": "7187fdfd-ac45-4774-ae3f-ff88ab08e85d",
   "metadata": {},
   "outputs": [
    {
     "name": "stdin",
     "output_type": "stream",
     "text": [
      "Enter a letter: a\n"
     ]
    },
    {
     "name": "stdout",
     "output_type": "stream",
     "text": [
      "Letter 'a' is a vowel\n"
     ]
    }
   ],
   "source": [
    "letter = input(\"Enter a letter:\")\n",
    "lst = [\"a\",\"e\",\"i\",\"o\",\"u\"]\n",
    "lst.append(letter.lower())\n",
    "\n",
    "if lst.count(letter) > 1:\n",
    "    print(f\"Letter '{letter}' is a vowel\")\n",
    "else:\n",
    "    print(f\"Letter '{letter}' is a consonant\")\n"
   ]
  },
  {
   "cell_type": "markdown",
   "id": "b540098f-46f5-4c23-832d-d0e73c3f82c5",
   "metadata": {},
   "source": [
    "#### 16. Time Classification: Write a Python program that takes the time in hours (24-hour format) as input and prints “Good Morning”, “Good Afternoon”, “Good Evening”, or “Good Night” based on the time."
   ]
  },
  {
   "cell_type": "code",
   "execution_count": 215,
   "id": "6c3026e6-6621-435a-b71d-fc8b2d51d0a8",
   "metadata": {},
   "outputs": [
    {
     "name": "stdin",
     "output_type": "stream",
     "text": [
      "Enter Time in 24-hr Format: 2048\n"
     ]
    },
    {
     "name": "stdout",
     "output_type": "stream",
     "text": [
      "Good Night\n"
     ]
    }
   ],
   "source": [
    "time = int(input(\"Enter Time in 24-hr Format:\"))\n",
    "\n",
    "if (time > 0) & (time < 1200):\n",
    "    print(\"Good Morning\")\n",
    "elif (time >= 1200) & (time < 1845):\n",
    "    print(\"Good Afternoon\")\n",
    "else:\n",
    "    print(\"Good Night\")"
   ]
  },
  {
   "cell_type": "markdown",
   "id": "5bfc09c3-80d2-47b9-aff2-d21a87e86b4f",
   "metadata": {},
   "source": [
    "#### 17. Triangle Type Checker: Write a Python program that takes three sides of a triangle as input and determines whether it forms an equilateral, isosceles, or scalene triangle."
   ]
  },
  {
   "cell_type": "code",
   "execution_count": 219,
   "id": "c310332b-b816-4b58-bdc7-670570566072",
   "metadata": {},
   "outputs": [
    {
     "name": "stdin",
     "output_type": "stream",
     "text": [
      "Enter 1st length in cm: 5\n",
      "Enter 2nd length in cm: 12\n",
      "Enter 3rd length in cm: 13\n"
     ]
    },
    {
     "name": "stdout",
     "output_type": "stream",
     "text": [
      "The triangle is a scalene triangle\n"
     ]
    }
   ],
   "source": [
    "side1 = float(input(\"Enter 1st length in cm:\"))\n",
    "side2 = float(input(\"Enter 2nd length in cm:\"))\n",
    "side3 = float(input(\"Enter 3rd length in cm:\"))\n",
    "\n",
    "if side1 == side2 == side3:\n",
    "    print(\"The triangle is an equilateral triangle\")\n",
    "elif (side1 == side2) | (side1 == side3) | (side2 == side3):\n",
    "    print(\"The triangle is an isosceles triangle\")\n",
    "else:\n",
    "    print('The triangle is a scalene triangle')"
   ]
  },
  {
   "cell_type": "markdown",
   "id": "5533bdf7-554a-4c1d-886e-ef9c9d6a1bb7",
   "metadata": {},
   "source": [
    "#### 18. Quadratic Equation Solver: Write a Python program that takes the coefficients (a, b, c) of a quadratic equation as input and calculates and prints the real roots (if they exist) or a message indicating the complex roots."
   ]
  },
  {
   "cell_type": "code",
   "execution_count": 224,
   "id": "72940782-06c8-4afd-893f-b25aa3477782",
   "metadata": {},
   "outputs": [
    {
     "name": "stdin",
     "output_type": "stream",
     "text": [
      "Enter co-efficient value a: 1\n",
      "Enter co-efficient value b: 1\n",
      "Enter co-efficient value c: 2\n"
     ]
    },
    {
     "name": "stdout",
     "output_type": "stream",
     "text": [
      "this quadratic equation has complex roots\n"
     ]
    }
   ],
   "source": [
    "a = int(input('Enter co-efficient value a:'))\n",
    "b = int(input('Enter co-efficient value b:'))\n",
    "c = int(input('Enter co-efficient value c:'))\n",
    "\n",
    "if (b**2) < (4*a*c):\n",
    "    print(\"this quadratic equation has complex roots\")\n",
    "elif (b**2) == (4*a*c):\n",
    "    root = (-b)/(2*a)\n",
    "    print(f\"The eqaution has only one root. The root is {root}\")\n",
    "else:\n",
    "    root1 = (-b+((b**2)-(4*a*c))**0.5)/(2*a)\n",
    "    root2 = (-b-((b**2)-(4*a*c))**0.5)/(2*a)\n",
    "    print(f\"The roots are: {root1}, {root2}\")\n",
    "    "
   ]
  },
  {
   "cell_type": "markdown",
   "id": "b81bb153-fb87-4870-85a2-9046f8bbbf5c",
   "metadata": {},
   "source": [
    "#### 19. Number Ranges: Write a Python program that takes an integer as input and prints whether the number falls within the ranges: 0-50, 51-100, 101-150, or above 150."
   ]
  },
  {
   "cell_type": "code",
   "execution_count": 229,
   "id": "d0300a88-aa0c-4e2b-9b54-85ba4c7bee50",
   "metadata": {},
   "outputs": [
    {
     "name": "stdin",
     "output_type": "stream",
     "text": [
      "Enter Your Number: 50\n"
     ]
    },
    {
     "name": "stdout",
     "output_type": "stream",
     "text": [
      "Number lies within the range 0-50\n"
     ]
    }
   ],
   "source": [
    "try:\n",
    "    num = int(input(\"Enter Your Number:\"))\n",
    "\n",
    "    if (0 <= num <= 50) :\n",
    "        print(\"Number lies within the range 0-50\")\n",
    "    elif (51 <= num <= 100):\n",
    "        print(\"Number lies within the range 51-100\")\n",
    "    elif (101 <= num <= 150):\n",
    "        print(\"Number lies within the range 101-150\")\n",
    "    elif (num > 150):\n",
    "        print(\"Number lies above 150\")\n",
    "    else:\n",
    "        print(\"Enter a positive number\")\n",
    "        \n",
    "except Exception as e:\n",
    "    print(f\"Enter a valid Number in Integer: {e}\")"
   ]
  },
  {
   "cell_type": "markdown",
   "id": "f329505b-057a-41cc-ae72-7c048fab7bf6",
   "metadata": {},
   "source": [
    "## For & While Loops:"
   ]
  },
  {
   "cell_type": "markdown",
   "id": "8c11e679-5d2c-48df-bede-96870e529d7a",
   "metadata": {},
   "source": [
    "#### 20. Sum of N Numbers: Write a Python program using a for loop to calculate the sum of the first N natural numbers, where N is taken as input from the user.\r\n"
   ]
  },
  {
   "cell_type": "code",
   "execution_count": 233,
   "id": "1aebd6ff-f785-41e1-a470-2e6ea863ef27",
   "metadata": {},
   "outputs": [
    {
     "name": "stdin",
     "output_type": "stream",
     "text": [
      "Enter the number: 10\n"
     ]
    },
    {
     "name": "stdout",
     "output_type": "stream",
     "text": [
      "55\n"
     ]
    }
   ],
   "source": [
    "num = int(input(\"Enter the number:\"))\n",
    "sum = 0\n",
    "\n",
    "for i in range (0, num+1):\n",
    "    sum += i\n",
    "\n",
    "print(sum)"
   ]
  },
  {
   "cell_type": "markdown",
   "id": "47ad0b61-f0da-4190-8115-198fd1a0ddf8",
   "metadata": {},
   "source": [
    "#### 21. Factorial Calculator: Write a Python program using a while loop to calculate the factorial of a given number N."
   ]
  },
  {
   "cell_type": "code",
   "execution_count": 248,
   "id": "4ac0fbed-adc6-4f92-921f-6c52b12ed35e",
   "metadata": {},
   "outputs": [
    {
     "name": "stdin",
     "output_type": "stream",
     "text": [
      "Enter the number: 7\n"
     ]
    },
    {
     "name": "stdout",
     "output_type": "stream",
     "text": [
      "5040\n"
     ]
    }
   ],
   "source": [
    "num = int(input(\"Enter the number:\"))\n",
    "fact, i = 1,1\n",
    "\n",
    "while i <= num:\n",
    "    fact *= i\n",
    "    i += 1\n",
    "    \n",
    "print(fact)"
   ]
  },
  {
   "cell_type": "markdown",
   "id": "148bfece-2abd-4365-a819-72d085bfb457",
   "metadata": {},
   "source": [
    "#### 22. Table of a Number: Write a Python program using a for loop to print the multiplication table of a given number N."
   ]
  },
  {
   "cell_type": "code",
   "execution_count": 250,
   "id": "eb02c31f-4a2a-4d91-8206-a78c54320930",
   "metadata": {},
   "outputs": [
    {
     "name": "stdout",
     "output_type": "stream",
     "text": [
      "14 X 1 = 14\n",
      "14 X 2 = 28\n",
      "14 X 3 = 42\n",
      "14 X 4 = 56\n",
      "14 X 5 = 70\n",
      "14 X 6 = 84\n",
      "14 X 7 = 98\n",
      "14 X 8 = 112\n",
      "14 X 9 = 126\n",
      "14 X 10 = 140\n"
     ]
    }
   ],
   "source": [
    "given_number = 14\n",
    "\n",
    "for i in range(1,11):\n",
    "    print(f\"{given_number} X {i} = {given_number*i}\")"
   ]
  },
  {
   "cell_type": "markdown",
   "id": "c6479952-03bb-4d06-a91f-ce8fcffaf4bb",
   "metadata": {},
   "source": [
    "#### 23. Count Digits in a Number: Write a Python program using a while loop to count the number of digits in a given integer N."
   ]
  },
  {
   "cell_type": "code",
   "execution_count": 36,
   "id": "a478386e-10c3-4fac-892d-092568763587",
   "metadata": {},
   "outputs": [
    {
     "name": "stdout",
     "output_type": "stream",
     "text": [
      "8\n"
     ]
    }
   ],
   "source": [
    "intgr = 20253546\n",
    "ls1 = list(str(intgr))\n",
    "count, i = 0, 0\n",
    "\n",
    "try:\n",
    "    while (i >= 0):\n",
    "        if ls1[i]:\n",
    "            count += 1\n",
    "            i += 1\n",
    "\n",
    "except Exception:\n",
    "    print(count)\n",
    "\n",
    "#It took almost 2 hrs to solve this problem"
   ]
  },
  {
   "cell_type": "markdown",
   "id": "ff3ec11c-564d-4bf7-a4eb-a5758e8bf174",
   "metadata": {},
   "source": [
    "#### 24. Fibonacci Sequence: Write a Python program using a for loop to generate the Fibonacci sequence up to a given limit N."
   ]
  },
  {
   "cell_type": "code",
   "execution_count": 137,
   "id": "2b9b5f3c-bbe8-4922-a3d3-c842389b329d",
   "metadata": {},
   "outputs": [
    {
     "name": "stdout",
     "output_type": "stream",
     "text": [
      "[0, 1, 1, 2, 3, 5, 8, 13, 21, 34, 55, 89]\n",
      "0\n",
      "1\n",
      "1\n",
      "2\n",
      "3\n",
      "5\n",
      "8\n",
      "13\n",
      "21\n",
      "34\n",
      "55\n",
      "89\n",
      "Golden ration is: 1.6181818181818182\n"
     ]
    }
   ],
   "source": [
    "limit = 100\n",
    "fibo = [0, 1]\n",
    "\n",
    "for i in range(limit+1):\n",
    "    if limit == 0:\n",
    "        fibo.pop(-1)\n",
    "    else:\n",
    "        if limit < fibo[i]+fibo[i+1]:\n",
    "            break\n",
    "        else:\n",
    "            fibo.append(fibo[i]+fibo[i+1])\n",
    "\n",
    "print(fibo)\n",
    "for i in fibo:\n",
    "    print(i)\n",
    "golden_ratio = fibo[-1]/fibo[-2]\n",
    "print(f\"Golden ration is: {golden_ratio}\")"
   ]
  },
  {
   "cell_type": "markdown",
   "id": "a2c59069-46cb-4fac-86c5-9eaf424762eb",
   "metadata": {},
   "source": [
    "#### 25. Sum of Even Numbers: Write a Python program using a while loop to calculate the sum of all even numbers between 1 and N, where N is taken as input from the user."
   ]
  },
  {
   "cell_type": "code",
   "execution_count": 42,
   "id": "31835ef7-a210-4377-818d-6c05d1181535",
   "metadata": {},
   "outputs": [
    {
     "name": "stdout",
     "output_type": "stream",
     "text": [
      "30\n"
     ]
    }
   ],
   "source": [
    "N = 10\n",
    "i, sum = 0, 0\n",
    "\n",
    "while (i >= 0) & (i <= N):\n",
    "    if i % 2 == 0:\n",
    "        sum += i\n",
    "    i += 1\n",
    "\n",
    "print(sum)"
   ]
  },
  {
   "cell_type": "markdown",
   "id": "6a1b83b7-ce58-4b6c-8a6a-f4c711e4c883",
   "metadata": {},
   "source": [
    "#### <span style=\"color: red\">26. Print Patterns: Write a Python program using nested for loops to print various patterns, such as a right-angled triangle, an inverted right-angled triangle, and so on.</span>"
   ]
  },
  {
   "cell_type": "code",
   "execution_count": 141,
   "id": "b52f5100-b5e2-48f1-8ef4-887164061b9c",
   "metadata": {},
   "outputs": [
    {
     "name": "stdout",
     "output_type": "stream",
     "text": [
      "\n",
      "*\n",
      "**\n",
      "***\n",
      "****\n"
     ]
    }
   ],
   "source": [
    "for i in range(5):\n",
    "    # for j in range(5):\n",
    "    #     print(\"*\"*j)\n",
    "    print(\"*\"*i)"
   ]
  },
  {
   "cell_type": "markdown",
   "id": "64cc04bf-0322-4cac-aef0-1bad3e3a1bc6",
   "metadata": {},
   "source": [
    "#### <span style=\"color: red\">27. Prime Number Checker: Write a Python program using a while loop to check if a given number N is prime or not.</span>"
   ]
  },
  {
   "cell_type": "code",
   "execution_count": 152,
   "id": "de9b7203-9e6a-48c3-a6a6-0884b7513f04",
   "metadata": {},
   "outputs": [
    {
     "name": "stdout",
     "output_type": "stream",
     "text": [
      "Not Prime\n"
     ]
    }
   ],
   "source": [
    "given_num = 2\n",
    "i = 2\n",
    "\n",
    "while i < 27:\n",
    "    if given_num % i == 0:\n",
    "        print('Not Prime')\n",
    "        break\n",
    "    else:\n",
    "        print('Prime Number')\n",
    "        break\n",
    "    i += 1"
   ]
  },
  {
   "cell_type": "markdown",
   "id": "7f371ba3-278d-4c9f-8c24-954f05ab32f9",
   "metadata": {},
   "source": [
    "#### 28. List Manipulation: Given a list of integers, write a Python program using a for loop to find the sum, average, maximum, and minimum values in the list."
   ]
  },
  {
   "cell_type": "code",
   "execution_count": 175,
   "id": "efb873b4-ed0a-4dda-ba40-38669f19df26",
   "metadata": {},
   "outputs": [
    {
     "name": "stdout",
     "output_type": "stream",
     "text": [
      "Sum is: 371 \n",
      "Average is: 46.375 \n",
      "Maximum Number is: 62 \n",
      "Minimum Number is: 35\n"
     ]
    }
   ],
   "source": [
    "lst = [42, 45, 56, 62, 35, 39, 35, 57]\n",
    "sum, max = 0, 0\n",
    "min = lst[0]\n",
    "\n",
    "for i in lst:\n",
    "    sum += i\n",
    "    if i > max:\n",
    "        max = i\n",
    "    if i < min:\n",
    "        min = i\n",
    "\n",
    "print(f\"Sum is: {sum} \\nAverage is: {format(sum/len(lst),\".3f\")} \\nMaximum Number is: {max} \\nMinimum Number is: {min}\")"
   ]
  },
  {
   "cell_type": "markdown",
   "id": "f7f84d2c-1c7e-42aa-99e1-d9bafd9275ac",
   "metadata": {},
   "source": [
    "#### 29. Reverse String: Write a Python program using a while loop to reverse a given string."
   ]
  },
  {
   "cell_type": "code",
   "execution_count": 193,
   "id": "cc4a110c-ed81-4250-87a8-862aea7b51de",
   "metadata": {},
   "outputs": [
    {
     "name": "stdout",
     "output_type": "stream",
     "text": [
      "nohtyP\n"
     ]
    }
   ],
   "source": [
    "given_str = 'Python'\n",
    "i = len(given_str)\n",
    "# i = 0\n",
    "str = []\n",
    "\n",
    "while i > 0:\n",
    "    str.append(list(given_str)[i-1])\n",
    "    i -= 1\n",
    "print(\"\".join(str))\n"
   ]
  },
  {
   "cell_type": "markdown",
   "id": "ac45de0c-317c-410d-b29f-508c8873e219",
   "metadata": {},
   "source": [
    "## Nested Loops:"
   ]
  },
  {
   "cell_type": "markdown",
   "id": "8754b2eb-c905-4f64-8c36-34de98297f3b",
   "metadata": {},
   "source": [
    "#### 30. Multiplication Table: Write a Python program using nested loops to print the multiplication table from 1 to 10."
   ]
  },
  {
   "cell_type": "code",
   "execution_count": 187,
   "id": "855491b1-dcb2-48e4-bf91-64c3b3963701",
   "metadata": {},
   "outputs": [
    {
     "name": "stdout",
     "output_type": "stream",
     "text": [
      "Multiplication table of 1\n",
      "1 X 1 = 1\n",
      "1 X 2 = 2\n",
      "1 X 3 = 3\n",
      "1 X 4 = 4\n",
      "1 X 5 = 5\n",
      "1 X 6 = 6\n",
      "1 X 7 = 7\n",
      "1 X 8 = 8\n",
      "1 X 9 = 9\n",
      "1 X 10 = 10\n",
      "Multiplication table of 2\n",
      "2 X 1 = 2\n",
      "2 X 2 = 4\n",
      "2 X 3 = 6\n",
      "2 X 4 = 8\n",
      "2 X 5 = 10\n",
      "2 X 6 = 12\n",
      "2 X 7 = 14\n",
      "2 X 8 = 16\n",
      "2 X 9 = 18\n",
      "2 X 10 = 20\n",
      "Multiplication table of 3\n",
      "3 X 1 = 3\n",
      "3 X 2 = 6\n",
      "3 X 3 = 9\n",
      "3 X 4 = 12\n",
      "3 X 5 = 15\n",
      "3 X 6 = 18\n",
      "3 X 7 = 21\n",
      "3 X 8 = 24\n",
      "3 X 9 = 27\n",
      "3 X 10 = 30\n",
      "Multiplication table of 4\n",
      "4 X 1 = 4\n",
      "4 X 2 = 8\n",
      "4 X 3 = 12\n",
      "4 X 4 = 16\n",
      "4 X 5 = 20\n",
      "4 X 6 = 24\n",
      "4 X 7 = 28\n",
      "4 X 8 = 32\n",
      "4 X 9 = 36\n",
      "4 X 10 = 40\n",
      "Multiplication table of 5\n",
      "5 X 1 = 5\n",
      "5 X 2 = 10\n",
      "5 X 3 = 15\n",
      "5 X 4 = 20\n",
      "5 X 5 = 25\n",
      "5 X 6 = 30\n",
      "5 X 7 = 35\n",
      "5 X 8 = 40\n",
      "5 X 9 = 45\n",
      "5 X 10 = 50\n",
      "Multiplication table of 6\n",
      "6 X 1 = 6\n",
      "6 X 2 = 12\n",
      "6 X 3 = 18\n",
      "6 X 4 = 24\n",
      "6 X 5 = 30\n",
      "6 X 6 = 36\n",
      "6 X 7 = 42\n",
      "6 X 8 = 48\n",
      "6 X 9 = 54\n",
      "6 X 10 = 60\n",
      "Multiplication table of 7\n",
      "7 X 1 = 7\n",
      "7 X 2 = 14\n",
      "7 X 3 = 21\n",
      "7 X 4 = 28\n",
      "7 X 5 = 35\n",
      "7 X 6 = 42\n",
      "7 X 7 = 49\n",
      "7 X 8 = 56\n",
      "7 X 9 = 63\n",
      "7 X 10 = 70\n",
      "Multiplication table of 8\n",
      "8 X 1 = 8\n",
      "8 X 2 = 16\n",
      "8 X 3 = 24\n",
      "8 X 4 = 32\n",
      "8 X 5 = 40\n",
      "8 X 6 = 48\n",
      "8 X 7 = 56\n",
      "8 X 8 = 64\n",
      "8 X 9 = 72\n",
      "8 X 10 = 80\n",
      "Multiplication table of 9\n",
      "9 X 1 = 9\n",
      "9 X 2 = 18\n",
      "9 X 3 = 27\n",
      "9 X 4 = 36\n",
      "9 X 5 = 45\n",
      "9 X 6 = 54\n",
      "9 X 7 = 63\n",
      "9 X 8 = 72\n",
      "9 X 9 = 81\n",
      "9 X 10 = 90\n",
      "Multiplication table of 10\n",
      "10 X 1 = 10\n",
      "10 X 2 = 20\n",
      "10 X 3 = 30\n",
      "10 X 4 = 40\n",
      "10 X 5 = 50\n",
      "10 X 6 = 60\n",
      "10 X 7 = 70\n",
      "10 X 8 = 80\n",
      "10 X 9 = 90\n",
      "10 X 10 = 100\n"
     ]
    }
   ],
   "source": [
    "limit = 10\n",
    "\n",
    "for i in range(1, limit+1):\n",
    "    print(f\"Multiplication table of {i}\")\n",
    "    for j in range(1, 11):\n",
    "        print(f\"{i} X {j} = {j*i}\")"
   ]
  },
  {
   "cell_type": "markdown",
   "id": "5bd08da9-eb25-4d1e-9ff9-7a04b26aab8c",
   "metadata": {},
   "source": [
    "#### <span style=\"color: red\">31. Print Patterns: Write a Python program using nested loops to print the following pattern.</span>"
   ]
  },
  {
   "cell_type": "code",
   "execution_count": null,
   "id": "0ff3e303-1342-4c18-8464-64d327da5840",
   "metadata": {},
   "outputs": [],
   "source": []
  },
  {
   "cell_type": "markdown",
   "id": "519ca574-235c-46b8-bfa3-fa1a55ea5306",
   "metadata": {},
   "source": [
    "#### <span style=\"color: red\">32. Matrix Multiplication: Write a Python program using nested loops to multiply two matrices.</span>"
   ]
  },
  {
   "cell_type": "code",
   "execution_count": null,
   "id": "33a6deca-60f7-48d5-be43-98f7818f46f0",
   "metadata": {},
   "outputs": [],
   "source": []
  },
  {
   "cell_type": "markdown",
   "id": "bc9358b2-66e9-44ab-8701-38c18714a069",
   "metadata": {},
   "source": [
    "#### <span style=\"color: red\">33. Chessboard Pattern: Write a Python program using nested loops to print a chessboard pattern (alternating “X” and “O” characters) of size 8×8.34. Number Pyramid: Write a Python program using nested loops to print a number pyramid like the following: 1 22 333 4444 55555</span>"
   ]
  },
  {
   "cell_type": "code",
   "execution_count": null,
   "id": "49920608-243f-44c8-b16a-1b6e3386fd76",
   "metadata": {},
   "outputs": [],
   "source": []
  },
  {
   "cell_type": "markdown",
   "id": "7a59ed0f-f13f-4cae-8969-30743951dac2",
   "metadata": {},
   "source": [
    "## List Problems:"
   ]
  },
  {
   "cell_type": "code",
   "execution_count": null,
   "id": "cd85f2fc-3d1a-404b-890f-1e002cf0cd63",
   "metadata": {},
   "outputs": [],
   "source": []
  }
 ],
 "metadata": {
  "kernelspec": {
   "display_name": "Python 3 (ipykernel)",
   "language": "python",
   "name": "python3"
  },
  "language_info": {
   "codemirror_mode": {
    "name": "ipython",
    "version": 3
   },
   "file_extension": ".py",
   "mimetype": "text/x-python",
   "name": "python",
   "nbconvert_exporter": "python",
   "pygments_lexer": "ipython3",
   "version": "3.12.4"
  }
 },
 "nbformat": 4,
 "nbformat_minor": 5
}
