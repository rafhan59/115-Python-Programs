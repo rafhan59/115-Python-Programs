{
 "cells": [
  {
   "cell_type": "markdown",
   "id": "db7f751b-60bb-4ed3-ac90-090de4417dc6",
   "metadata": {},
   "source": [
    "## Basic Problems"
   ]
  },
  {
   "cell_type": "markdown",
   "id": "115dddc9-07b5-483f-9d3b-b1ee8154c719",
   "metadata": {},
   "source": [
    "#### 1. Variable Swap: Write a Python program to swap the values of two variables without using a temporary variable."
   ]
  },
  {
   "cell_type": "code",
   "execution_count": 4,
   "id": "5a326828-9a1f-43ce-b43b-8f080504e9ff",
   "metadata": {},
   "outputs": [
    {
     "name": "stdout",
     "output_type": "stream",
     "text": [
      "The value of a is 20 and the value of b is 10\n"
     ]
    }
   ],
   "source": [
    "a = 10\n",
    "b = 20\n",
    "a,b = b,a\n",
    "print(f'The value of a is {a} and the value of b is {b}')"
   ]
  },
  {
   "cell_type": "markdown",
   "id": "ba7ff65e-0928-43a2-b6f6-f36981c5b9eb",
   "metadata": {},
   "source": [
    "#### 2. Even or Odd: Write a Python program that takes an integer as input and prints whether it is even or odd."
   ]
  },
  {
   "cell_type": "code",
   "execution_count": 20,
   "id": "4c9b5b1f-0214-4386-8da1-3a27d2b76d54",
   "metadata": {},
   "outputs": [
    {
     "name": "stdout",
     "output_type": "stream",
     "text": [
      "The value is odd\n"
     ]
    }
   ],
   "source": [
    "def number_check(n):\n",
    "    try:\n",
    "        num = int(n)\n",
    "        if num % 2 == 0:\n",
    "            print('The value is even')\n",
    "        elif num < 0:\n",
    "            print('Please provide a non-negative number')\n",
    "        elif num % 2 == 1:\n",
    "            print('The value is odd')\n",
    "        else:\n",
    "            print('Provide a valid number')\n",
    "    except Exception as e:\n",
    "        print(f\"Provide a correct number: {e}\")\n",
    "\n",
    "number_check(5)"
   ]
  },
  {
   "cell_type": "markdown",
   "id": "5df3ddb4-6025-4bd9-a559-85ebea3591f0",
   "metadata": {},
   "source": [
    "#### 3. String Reverse: Write a Python function to reverse a given string and return the reversed string."
   ]
  },
  {
   "cell_type": "code",
   "execution_count": 130,
   "id": "03b31ad3-d5cf-492a-a7d4-ebf407c120ce",
   "metadata": {},
   "outputs": [
    {
     "name": "stdout",
     "output_type": "stream",
     "text": [
      "egami esreveR\n"
     ]
    }
   ],
   "source": [
    "def reversed(n):\n",
    "    txt = []\n",
    "    length = len(n)-1\n",
    "    for i in range(length, -1, -1):\n",
    "        txt.append(n[i])\n",
    "    print(''.join(txt))\n",
    "\n",
    "reversed(\"Reverse image\")"
   ]
  },
  {
   "cell_type": "markdown",
   "id": "3ae1eac0-dd34-44cc-bcf0-47330da71b4c",
   "metadata": {},
   "source": [
    "#### 4. Type Conversion: Given a list of integers, write a Python program to convert each element of the list to a string."
   ]
  },
  {
   "cell_type": "code",
   "execution_count": 31,
   "id": "45c8bac7-6823-44ff-945c-f380a21c4810",
   "metadata": {},
   "outputs": [
    {
     "name": "stdout",
     "output_type": "stream",
     "text": [
      "12, type is <class 'str'>\n",
      "15, type is <class 'str'>\n",
      "5, type is <class 'str'>\n",
      "8, type is <class 'str'>\n",
      "18, type is <class 'str'>\n"
     ]
    }
   ],
   "source": [
    "def convert_to_list(lst):\n",
    "    for i in lst:\n",
    "        elem = str(i)\n",
    "        print(f\"{elem}, type is {type(elem)}\")\n",
    "\n",
    "convert_to_list([12, 15, 5, 8, 18])"
   ]
  },
  {
   "cell_type": "markdown",
   "id": "7426d5bc-bbec-499a-a9dc-4dc9159dccdb",
   "metadata": {},
   "source": [
    "#### 5. Temperature Converter: Write a Python program that converts a temperature in Celsius to Fahrenheit. Take the Celsius temperature as input from the user."
   ]
  },
  {
   "cell_type": "code",
   "execution_count": 50,
   "id": "d77f9755-80e6-45c0-ace2-f1fae36e908d",
   "metadata": {},
   "outputs": [
    {
     "name": "stdin",
     "output_type": "stream",
     "text": [
      "Enter Your Temperature in Celcius 36.98\n"
     ]
    },
    {
     "name": "stdout",
     "output_type": "stream",
     "text": [
      "98.56° F\n"
     ]
    }
   ],
   "source": [
    "try:\n",
    "    celcius = float(input('Enter Your Temperature in Celcius'))\n",
    "    fahrenheit = (9*(celcius)/5)+32\n",
    "    print(f\"{format(fahrenheit,'.2f')}° F\")\n",
    "except Exception as e:\n",
    "    print('Please provide a valid number')"
   ]
  },
  {
   "cell_type": "markdown",
   "id": "b3d8841e-fd98-4461-9484-2b712a97cdc5",
   "metadata": {},
   "source": [
    "#### 6. Data Type Checker: Write a Python function that takes a variable as input and returns the data type of the variable as a string (e.g., “int”, “float”, “str”, “list”, etc.)."
   ]
  },
  {
   "cell_type": "code",
   "execution_count": 76,
   "id": "14386a95-2bca-4ca6-898b-a41ee4ca0aa4",
   "metadata": {},
   "outputs": [
    {
     "name": "stdout",
     "output_type": "stream",
     "text": [
      "<class 'float'>, type of returned value is <class 'str'>\n"
     ]
    }
   ],
   "source": [
    "def type_check(var):\n",
    "    stringify = str(type(var))\n",
    "    print(f\"{stringify}, type of returned value is {type(stringify)}\")\n",
    "\n",
    "type_check(19.25)"
   ]
  },
  {
   "cell_type": "markdown",
   "id": "219d8635-68aa-49d1-a4b0-f028e4ce768b",
   "metadata": {},
   "source": [
    "#### 7. String Palindrome: Write a Python function to check if a given string is a palindrome or not."
   ]
  },
  {
   "cell_type": "code",
   "execution_count": 87,
   "id": "c857bb98-cd3d-4d9e-8bf0-a38cf8d153da",
   "metadata": {},
   "outputs": [
    {
     "name": "stdout",
     "output_type": "stream",
     "text": [
      "Madam is pallindrome\n",
      "Nurses Run is pallindrome\n",
      "How cute is not a pallindrome\n"
     ]
    }
   ],
   "source": [
    "def pal_check(str):\n",
    "    rev = str.lower()[::-1].replace(\" \",\"\")\n",
    "    if str.lower().replace(\" \",\"\") == rev:\n",
    "        print(f\"{str} is pallindrome\")\n",
    "    else:\n",
    "        print(f\"{str} is not a pallindrome\")\n",
    "\n",
    "pal_check('Madam')\n",
    "pal_check('Nurses Run')\n",
    "pal_check('How cute')"
   ]
  },
  {
   "cell_type": "markdown",
   "id": "59799d3e-0909-4317-b09e-abab18f501dd",
   "metadata": {},
   "source": [
    "#### 8. String Reversal with Slicing: Write a Python function to reverse a given string using slicing."
   ]
  },
  {
   "cell_type": "code",
   "execution_count": 88,
   "id": "337e0093-5083-4cd9-bd1d-bb7270fb5572",
   "metadata": {},
   "outputs": [
    {
     "name": "stdout",
     "output_type": "stream",
     "text": [
      "esrever\n"
     ]
    }
   ],
   "source": [
    "def rev(n):\n",
    "    return n[::-1]\n",
    "print(rev('reverse'))"
   ]
  },
  {
   "cell_type": "markdown",
   "id": "6ec6f0e7-66c6-47fa-ad73-b9f8a5e94d7b",
   "metadata": {},
   "source": [
    "#### 9. String Concatenation: Write a Python program that takes two strings as input and concatenates them into a single string without using the '+' operator."
   ]
  },
  {
   "cell_type": "code",
   "execution_count": 132,
   "id": "8789bed0-b8eb-448f-9027-655c3aac4350",
   "metadata": {},
   "outputs": [
    {
     "name": "stdin",
     "output_type": "stream",
     "text": [
      "Enter your first string: Hello\n",
      "Enter your second string: World!\n"
     ]
    },
    {
     "name": "stdout",
     "output_type": "stream",
     "text": [
      "Hello World!\n"
     ]
    }
   ],
   "source": [
    "str1 = input(\"Enter your first string:\")\n",
    "str2 = input(\"Enter your second string:\")\n",
    "print(f\"{str1} {str2}\")"
   ]
  },
  {
   "cell_type": "markdown",
   "id": "72bc789e-6c5b-4f42-ac1f-684084189b88",
   "metadata": {},
   "source": [
    "#### 10. Typecasting Challenge: Given three variables: `a = ‘100’`, `b = 25`, and `c = ‘10.5’`, write a Python program to perform the following operations and print the results: – Convert `a` to an integer and add it to `b`. – Convert `c` to a float and subtract it from the result of the first operation. – Convert the final result to a string and concatenate it with the string ” is the answer.”"
   ]
  },
  {
   "cell_type": "code",
   "execution_count": 134,
   "id": "9dd54872-674d-4cbb-82de-890013268db8",
   "metadata": {},
   "outputs": [
    {
     "name": "stdout",
     "output_type": "stream",
     "text": [
      "First result is 125\n",
      "Second result is 114.5\n"
     ]
    }
   ],
   "source": [
    "a = '100'\n",
    "b = 25\n",
    "c = '10.5'\n",
    "\n",
    "# Convert a to an integer and add it to b.\n",
    "result1 = int(a)+b\n",
    "print(f\"First result is {result1}\")\n",
    "\n",
    "# Convert c to a float and subtract it from the result of the first operation\n",
    "c = float(c)\n",
    "result2 = result1 - c\n",
    "print(f\"Second result is {result2}\")\n",
    "\n",
    "# Convert the final result to a string and concatenate it with the string ” is the answer.”\n",
    "given_str = "
   ]
  },
  {
   "cell_type": "code",
   "execution_count": null,
   "id": "6a76fc8e-1815-46ca-96d7-55e7aebb2267",
   "metadata": {},
   "outputs": [],
   "source": []
  }
 ],
 "metadata": {
  "kernelspec": {
   "display_name": "Python 3 (ipykernel)",
   "language": "python",
   "name": "python3"
  },
  "language_info": {
   "codemirror_mode": {
    "name": "ipython",
    "version": 3
   },
   "file_extension": ".py",
   "mimetype": "text/x-python",
   "name": "python",
   "nbconvert_exporter": "python",
   "pygments_lexer": "ipython3",
   "version": "3.12.4"
  }
 },
 "nbformat": 4,
 "nbformat_minor": 5
}
